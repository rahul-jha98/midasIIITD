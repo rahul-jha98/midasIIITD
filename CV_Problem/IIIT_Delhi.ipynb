{
  "nbformat": 4,
  "nbformat_minor": 0,
  "metadata": {
    "colab": {
      "name": "IIIT_Delhi.ipynb",
      "version": "0.3.2",
      "provenance": [],
      "collapsed_sections": [],
      "toc_visible": true
    },
    "kernelspec": {
      "name": "python3",
      "display_name": "Python 3"
    },
    "accelerator": "GPU"
  },
  "cells": [
    {
      "metadata": {
        "id": "nM5-ed7G7k8E",
        "colab_type": "code",
        "colab": {
          "base_uri": "https://localhost:8080/",
          "height": 34
        },
        "outputId": "28844440-0f0a-439a-c395-0c93e83b0ed0"
      },
      "cell_type": "code",
      "source": [
        "import numpy as np\n",
        "import pandas as pd\n",
        "import torch\n",
        "\n",
        "# check if CUDA is available\n",
        "train_on_gpu = torch.cuda.is_available()\n",
        "\n",
        "if not train_on_gpu:\n",
        "  print(\"CUDA is not available. Training on CPU...\")\n",
        "else:\n",
        "  print(\"CUDA is available. Training on GPU..\")"
      ],
      "execution_count": 119,
      "outputs": [
        {
          "output_type": "stream",
          "text": [
            "CUDA is available. Training on GPU..\n"
          ],
          "name": "stdout"
        }
      ]
    },
    {
      "metadata": {
        "id": "PMXAP8qb8598",
        "colab_type": "text"
      },
      "cell_type": "markdown",
      "source": [
        "## Image Loading"
      ]
    },
    {
      "metadata": {
        "id": "SYoszVAs84QK",
        "colab_type": "code",
        "colab": {}
      },
      "cell_type": "code",
      "source": [
        "import pickle\n",
        "\n",
        "with open('train_image.pkl', 'rb') as f:\n",
        "    data = pickle.load(f)"
      ],
      "execution_count": 0,
      "outputs": []
    },
    {
      "metadata": {
        "id": "wSzQqO4TxdSd",
        "colab_type": "code",
        "colab": {}
      },
      "cell_type": "code",
      "source": [
        "with open('test_image.pkl', 'rb') as f:\n",
        "    data2 = pickle.load(f)"
      ],
      "execution_count": 0,
      "outputs": []
    },
    {
      "metadata": {
        "id": "jHBCof1O92wP",
        "colab_type": "code",
        "colab": {}
      },
      "cell_type": "code",
      "source": [
        "torch.set_default_tensor_type('torch.FloatTensor')"
      ],
      "execution_count": 0,
      "outputs": []
    },
    {
      "metadata": {
        "id": "iRh8gI1793xI",
        "colab_type": "code",
        "colab": {}
      },
      "cell_type": "code",
      "source": [
        "with open('train_label.pkl', 'rb') as f:\n",
        "    label = pickle.load(f)"
      ],
      "execution_count": 0,
      "outputs": []
    },
    {
      "metadata": {
        "id": "TZ9hUKzd-JaM",
        "colab_type": "code",
        "colab": {
          "base_uri": "https://localhost:8080/",
          "height": 34
        },
        "outputId": "a5ea8c1c-d449-4cd8-c513-130b1d9424a1"
      },
      "cell_type": "code",
      "source": [
        "max(label)"
      ],
      "execution_count": 147,
      "outputs": [
        {
          "output_type": "execute_result",
          "data": {
            "text/plain": [
              "6"
            ]
          },
          "metadata": {
            "tags": []
          },
          "execution_count": 147
        }
      ]
    },
    {
      "metadata": {
        "id": "NUc44_tauwul",
        "colab_type": "code",
        "colab": {}
      },
      "cell_type": "code",
      "source": [
        "data = np.array(data)"
      ],
      "execution_count": 0,
      "outputs": []
    },
    {
      "metadata": {
        "id": "fUM2GsmGtS_x",
        "colab_type": "code",
        "colab": {}
      },
      "cell_type": "code",
      "source": [
        "data2 = np.array(data2)"
      ],
      "execution_count": 0,
      "outputs": []
    },
    {
      "metadata": {
        "id": "DDTJ9hvH-Xk3",
        "colab_type": "code",
        "colab": {}
      },
      "cell_type": "code",
      "source": [
        "data = data.reshape(8000, 28,28)"
      ],
      "execution_count": 0,
      "outputs": []
    },
    {
      "metadata": {
        "id": "rhFnVp1Pxk56",
        "colab_type": "code",
        "colab": {}
      },
      "cell_type": "code",
      "source": [
        "data2 = data2.reshape(2000, 28, 28)"
      ],
      "execution_count": 0,
      "outputs": []
    },
    {
      "metadata": {
        "id": "kEnmJU_n-aQq",
        "colab_type": "code",
        "outputId": "32f1cd36-50c7-42cd-f95e-866fdd5e0f94",
        "colab": {
          "base_uri": "https://localhost:8080/",
          "height": 34
        }
      },
      "cell_type": "code",
      "source": [
        "data.shape"
      ],
      "execution_count": 152,
      "outputs": [
        {
          "output_type": "execute_result",
          "data": {
            "text/plain": [
              "(8000, 28, 28)"
            ]
          },
          "metadata": {
            "tags": []
          },
          "execution_count": 152
        }
      ]
    },
    {
      "metadata": {
        "id": "SfvgYlkgL9pn",
        "colab_type": "code",
        "outputId": "08015a6e-1701-4bfd-8bf7-c93a520a3f7f",
        "colab": {
          "base_uri": "https://localhost:8080/",
          "height": 34
        }
      },
      "cell_type": "code",
      "source": [
        "data2.shape"
      ],
      "execution_count": 153,
      "outputs": [
        {
          "output_type": "execute_result",
          "data": {
            "text/plain": [
              "(2000, 28, 28)"
            ]
          },
          "metadata": {
            "tags": []
          },
          "execution_count": 153
        }
      ]
    },
    {
      "metadata": {
        "id": "TeKLjA1ytZNu",
        "colab_type": "code",
        "colab": {}
      },
      "cell_type": "code",
      "source": [
        "data = torch.FloatTensor(data)"
      ],
      "execution_count": 0,
      "outputs": []
    },
    {
      "metadata": {
        "id": "5c0CrBF7tcWi",
        "colab_type": "code",
        "colab": {}
      },
      "cell_type": "code",
      "source": [
        "data2 = torch.FloatTensor(data2)"
      ],
      "execution_count": 0,
      "outputs": []
    },
    {
      "metadata": {
        "id": "U-i4mOD8_QT4",
        "colab_type": "text"
      },
      "cell_type": "markdown",
      "source": [
        "### Prepare for model"
      ]
    },
    {
      "metadata": {
        "id": "p7KBtBrwCKDu",
        "colab_type": "code",
        "colab": {}
      },
      "cell_type": "code",
      "source": [
        "from PIL import Image\n",
        "from torchvision import datasets\n",
        "import torchvision.transforms as transforms\n",
        "from torch.utils.data.sampler import SubsetRandomSampler\n",
        "\n",
        "class MyImages(torch.utils.data.Dataset):\n",
        "  \n",
        "  def __init__(self,\n",
        "                 images,\n",
        "                 labels,\n",
        "                 train=True,\n",
        "                 transform=None):\n",
        "    self.images = images\n",
        "    self.labels = labels\n",
        "    self.transform = transform\n",
        "    self.train = train # training set or test set\n",
        "    \n",
        "    \n",
        "  def __getitem__(self, index):\n",
        "    img, target = self.images[index], self.labels[index]\n",
        "\n",
        "    img = Image.fromarray(img.squeeze().numpy(), mode='F')\n",
        "    \n",
        "    if self.transform is not None:\n",
        "      img = self.transform(img)\n",
        "    \n",
        "    return img, target\n",
        "  \n",
        "  def __len__(self):\n",
        "        \"\"\"Return size of dataset.\"\"\"\n",
        "        return len(self.labels)"
      ],
      "execution_count": 0,
      "outputs": []
    },
    {
      "metadata": {
        "id": "t2MrEDsuyP0U",
        "colab_type": "code",
        "colab": {}
      },
      "cell_type": "code",
      "source": [
        "class MyTestImages(torch.utils.data.Dataset):\n",
        "  \n",
        "  def __init__(self,\n",
        "                 images,\n",
        "                 transform=None):\n",
        "    self.images = images\n",
        "    self.transform = transform\n",
        "    \n",
        "    \n",
        "  def __getitem__(self, index):\n",
        "    img, target = self.images[index], index\n",
        "\n",
        "    img = Image.fromarray(img.squeeze().numpy(), mode='F')\n",
        "    \n",
        "    if self.transform is not None:\n",
        "      img = self.transform(img)\n",
        "    \n",
        "    return img, target\n",
        "  \n",
        "  def __len__(self):\n",
        "        \"\"\"Return size of dataset.\"\"\"\n",
        "        return self.images.shape[0]"
      ],
      "execution_count": 0,
      "outputs": []
    },
    {
      "metadata": {
        "id": "yZfZ5i1m-7uH",
        "colab_type": "code",
        "colab": {}
      },
      "cell_type": "code",
      "source": [
        "\n",
        "\n",
        "# num of subporcesses for data loading\n",
        "num_workers = 0\n",
        "\n",
        "# how many samples per batch to load\n",
        "batch_size = 16\n",
        "\n",
        "# percentage of training set to use as validation data\n",
        "valid_size = 0.2\n",
        "\n",
        "# convert data to a normalized torch.FloatTensor\n",
        "transform = transforms.Compose([\n",
        "    transforms.RandomHorizontalFlip(p=0.5),\n",
        "    transforms.ToTensor()\n",
        "])\n",
        "\n",
        "transform_test = transforms.Compose([\n",
        "    transforms.ToTensor()\n",
        "])\n",
        "\n",
        "train_data = MyImages(data, label, transform = transform)\n",
        "test_data = MyTestImages(data2, transform = transform_test)\n",
        "\n",
        "# obtaining training indices that will be used for validataion\n",
        "num_train = len(train_data)\n",
        "indices = list(range(num_train))\n",
        "np.random.shuffle(indices)\n",
        "split = int(np.floor(valid_size * num_train))\n",
        "train_idx, valid_idx = indices[split:], indices[:split]\n",
        "\n",
        "# define samplers for obtaining training and validation batches\n",
        "train_sampler = SubsetRandomSampler(train_idx)\n",
        "valid_sampler = SubsetRandomSampler(valid_idx)\n",
        "\n",
        "#Prepare data loaders\n",
        "train_loader = torch.utils.data.DataLoader(train_data, batch_size=batch_size,\n",
        "                                          sampler = train_sampler,\n",
        "                                           num_workers = num_workers)\n",
        "\n",
        "valid_loader = torch.utils.data.DataLoader(train_data, batch_size=batch_size,\n",
        "                                          sampler = valid_sampler,\n",
        "                                           num_workers = num_workers)\n",
        "\n",
        "test_loader = torch.utils.data.DataLoader(test_data, batch_size = batch_size,\n",
        "                                          num_workers = num_workers)"
      ],
      "execution_count": 0,
      "outputs": []
    },
    {
      "metadata": {
        "id": "P0yFWFU8LvEf",
        "colab_type": "code",
        "colab": {}
      },
      "cell_type": "code",
      "source": [
        ""
      ],
      "execution_count": 0,
      "outputs": []
    },
    {
      "metadata": {
        "id": "ufMmnnDk-9u1",
        "colab_type": "code",
        "outputId": "17a0ee1d-e970-4a9b-a9f8-8acb3ef1d5cf",
        "colab": {
          "base_uri": "https://localhost:8080/",
          "height": 283
        }
      },
      "cell_type": "code",
      "source": [
        "import matplotlib.pyplot as plt\n",
        "%matplotlib inline \n",
        "\n",
        "#obtain one batch of training images\n",
        "dataiter = iter(train_loader)\n",
        "images, labels = dataiter.next()\n",
        "\n",
        "images.numpy()\n",
        "\n",
        "\n",
        "# plot the images in the batch\n",
        "fig = plt.figure(figsize=(25,4))\n",
        "for idx in np.arange(16):\n",
        "  ax = fig.add_subplot(2, 16/2, idx + 1, xticks = [], yticks = [])\n",
        "  ax.imshow(np.squeeze(images[idx]), cmap = 'gray')\n",
        "  # print out the correct labels for each image\n",
        "  ax.set_title(str(labels[idx].item()))"
      ],
      "execution_count": 163,
      "outputs": [
        {
          "output_type": "display_data",
          "data": {
            "image/png": "[encoded data removed]",
            "text/plain": [
              "<Figure size 1800x288 with 16 Axes>"
            ]
          },
          "metadata": {
            "tags": []
          }
        }
      ]
    },
    {
      "metadata": {
        "id": "oSLKZQWMG5TE",
        "colab_type": "text"
      },
      "cell_type": "markdown",
      "source": [
        "## Defining the Architecture"
      ]
    },
    {
      "metadata": {
        "id": "jfaRGwYTBZC9",
        "colab_type": "code",
        "outputId": "3185e983-b0d2-4bbd-8170-d35799cc49e1",
        "colab": {
          "base_uri": "https://localhost:8080/",
          "height": 221
        }
      },
      "cell_type": "code",
      "source": [
        "import torch.nn as nn\n",
        "import torch.nn.functional as F\n",
        "\n",
        "class Net(nn.Module):\n",
        "  def __init__(self):\n",
        "    super(Net, self).__init__()\n",
        "     # convolutional layer (sees 28 x 28 x 1 tensor)\n",
        "    self.conv1 = nn.Conv2d(1, 16, 3, padding = 1)\n",
        "    self.conv1b = nn.Conv2d(16, 24, 3, padding = 1)\n",
        "    \n",
        "    # convolutional layer (sees 14 x 14 x 16 tensor)\n",
        "    self.conv2 = nn.Conv2d(24, 32, 3, padding = 1)\n",
        "    self.conv2b = nn.Conv2d(32, 48, 3, padding = 1)\n",
        "    # convolutional layer (sees 7 x 7 x 32 tensor)\n",
        "    self.conv3 = nn.Conv2d(48, 64, 3, padding = 1)\n",
        "    \n",
        "    # maxpool layers\n",
        "    self.pool = nn.MaxPool2d(2,2)\n",
        "    \n",
        "    # linear layer\n",
        "    self.fc1 = nn.Linear(64 * 3 * 3, 512)\n",
        "    # linear layer (512 -> 10)\n",
        "    self.fc2 = nn.Linear(512, 128)\n",
        "    self.fc3 = nn.Linear(128, 7)\n",
        "    \n",
        "    # dropout layer (p = 0.25)\n",
        "    self.dropout = nn.Dropout(0.25)\n",
        "  \n",
        "  \n",
        "  def forward(self, x):\n",
        "    x = F.relu(self.conv1(x))\n",
        "    x = self.pool(F.relu(self.conv1b(x)))\n",
        "    x = F.relu(self.conv2(x))\n",
        "    x = self.pool(F.relu(self.conv2b(x)))\n",
        "    x = self.pool(F.relu(self.conv3(x)))\n",
        "    \n",
        "    # flatten the image\n",
        "    x = x.view(-1, 64 * 3 * 3)\n",
        "    \n",
        "    # add dropout\n",
        "    x = self.dropout(x)\n",
        "    # add first hidden layer with relu activation\n",
        "    x = F.relu(self.fc1(x))\n",
        "    #add dropout\n",
        "    x = self.dropout(x)\n",
        "    \n",
        "    # add second hidden layer\n",
        "    x = F.relu(self.fc2(x))\n",
        "    x = self.dropout(x)\n",
        "    \n",
        "    x = self.fc3(x)\n",
        "    \n",
        "    return x\n",
        "  \n",
        "#initialize the NN\n",
        "model = Net()\n",
        "print(model)\n",
        "\n",
        "# move tensors to GPU if CUDA is available\n",
        "if train_on_gpu:\n",
        "  model.cuda()"
      ],
      "execution_count": 137,
      "outputs": [
        {
          "output_type": "stream",
          "text": [
            "Net(\n",
            "  (conv1): Conv2d(1, 16, kernel_size=(3, 3), stride=(1, 1), padding=(1, 1))\n",
            "  (conv1b): Conv2d(16, 24, kernel_size=(3, 3), stride=(1, 1), padding=(1, 1))\n",
            "  (conv2): Conv2d(24, 32, kernel_size=(3, 3), stride=(1, 1), padding=(1, 1))\n",
            "  (conv2b): Conv2d(32, 48, kernel_size=(3, 3), stride=(1, 1), padding=(1, 1))\n",
            "  (conv3): Conv2d(48, 64, kernel_size=(3, 3), stride=(1, 1), padding=(1, 1))\n",
            "  (pool): MaxPool2d(kernel_size=2, stride=2, padding=0, dilation=1, ceil_mode=False)\n",
            "  (fc1): Linear(in_features=576, out_features=512, bias=True)\n",
            "  (fc2): Linear(in_features=512, out_features=128, bias=True)\n",
            "  (fc3): Linear(in_features=128, out_features=7, bias=True)\n",
            "  (dropout): Dropout(p=0.25)\n",
            ")\n"
          ],
          "name": "stdout"
        }
      ]
    },
    {
      "metadata": {
        "id": "lP9cz5AKG8b4",
        "colab_type": "code",
        "colab": {}
      },
      "cell_type": "code",
      "source": [
        "# specify the loss function\n",
        "criterion = nn.CrossEntropyLoss()\n",
        "\n",
        "# specify the optimizer and learning rate = 0.01\n",
        "optimizer = torch.optim.SGD(model.parameters(), lr = 0.01)"
      ],
      "execution_count": 0,
      "outputs": []
    },
    {
      "metadata": {
        "id": "HjU3gTu4G-_1",
        "colab_type": "code",
        "outputId": "7f0c862e-4935-4719-b956-e5c460486e1c",
        "colab": {
          "base_uri": "https://localhost:8080/",
          "height": 1071
        }
      },
      "cell_type": "code",
      "source": [
        "# number of epochs to train the model\n",
        "n_epochs = 50 # you may increase this number to train a final model\n",
        "\n",
        "valid_loss_min = np.Inf # track change in validation loss\n",
        "\n",
        "for epoch in range(1, n_epochs+1):\n",
        "\n",
        "    # keep track of training and validation loss\n",
        "    train_loss = 0.0\n",
        "    valid_loss = 0.0\n",
        "    \n",
        "    ###################\n",
        "    # train the model #\n",
        "    ###################\n",
        "    model.train()\n",
        "    for data, target in train_loader:\n",
        "        # move tensors to GPU if CUDA is available\n",
        "        if train_on_gpu:\n",
        "            data, target = data.cuda(), target.cuda()\n",
        "        # clear the gradients of all optimized variables\n",
        "        optimizer.zero_grad()\n",
        "        # forward pass: compute predicted outputs by passing inputs to the model\n",
        "        output = model(data)\n",
        "        # calculate the batch loss\n",
        "        loss = criterion(output, target)\n",
        "        # backward pass: compute gradient of the loss with respect to model parameters\n",
        "        loss.backward()\n",
        "        # perform a single optimization step (parameter update)\n",
        "        optimizer.step()\n",
        "        # update training loss\n",
        "        train_loss += loss.item()*data.size(0)\n",
        "        \n",
        "    ######################    \n",
        "    # validate the model #\n",
        "    ######################\n",
        "    model.eval()\n",
        "    correct = 0\n",
        "    total = 0\n",
        "    for data, target in valid_loader:\n",
        "        # move tensors to GPU if CUDA is available\n",
        "        if train_on_gpu:\n",
        "            data, target = data.cuda(), target.cuda()\n",
        "        # forward pass: compute predicted outputs by passing inputs to the model\n",
        "        output = model(data)\n",
        "        values, indices = torch.max(output, 1)\n",
        "        correct += torch.sum(indices == target)\n",
        "        total += batch_size\n",
        "        # calculate the batch loss\n",
        "        loss = criterion(output, target)\n",
        "        # update average validation loss \n",
        "        valid_loss += loss.item()*data.size(0)\n",
        "    \n",
        "    # calculate average losses\n",
        "    train_loss = train_loss/len(train_loader.dataset)\n",
        "    valid_loss = valid_loss/len(valid_loader.dataset)\n",
        "        \n",
        "    accuracy = (correct * 100.0) / total\n",
        "    # print training/validation statistics \n",
        "    print('Epoch: {} \\tTraining Loss: {:.6f} \\tValidation Loss: {:.6f} Validation Accuracy {:.2f}'.format(\n",
        "        epoch, train_loss, valid_loss, accuracy))\n",
        "    \n",
        "    # save model if validation loss has decreased\n",
        "    if valid_loss <= valid_loss_min:\n",
        "        print('Validation loss decreased ({:.6f} --> {:.6f}).  Saving model ...'.format(\n",
        "        valid_loss_min,\n",
        "        valid_loss))\n",
        "        torch.save(model.state_dict(), 'model_cifar.pt')\n",
        "        valid_loss_min = valid_loss"
      ],
      "execution_count": 139,
      "outputs": [
        {
          "output_type": "stream",
          "text": [
            "Epoch: 1 \tTraining Loss: 0.703944 \tValidation Loss: 0.127623 Validation Accuracy 73.00\n",
            "Validation loss decreased (inf --> 0.127623).  Saving model ...\n",
            "Epoch: 2 \tTraining Loss: 0.507227 \tValidation Loss: 0.105832 Validation Accuracy 79.00\n",
            "Validation loss decreased (0.127623 --> 0.105832).  Saving model ...\n",
            "Epoch: 3 \tTraining Loss: 0.439404 \tValidation Loss: 0.106683 Validation Accuracy 78.00\n",
            "Epoch: 4 \tTraining Loss: 0.397196 \tValidation Loss: 0.100291 Validation Accuracy 81.00\n",
            "Validation loss decreased (0.105832 --> 0.100291).  Saving model ...\n",
            "Epoch: 5 \tTraining Loss: 0.366492 \tValidation Loss: 0.084921 Validation Accuracy 83.00\n",
            "Validation loss decreased (0.100291 --> 0.084921).  Saving model ...\n",
            "Epoch: 6 \tTraining Loss: 0.347569 \tValidation Loss: 0.084741 Validation Accuracy 83.00\n",
            "Validation loss decreased (0.084921 --> 0.084741).  Saving model ...\n",
            "Epoch: 7 \tTraining Loss: 0.320385 \tValidation Loss: 0.081085 Validation Accuracy 84.00\n",
            "Validation loss decreased (0.084741 --> 0.081085).  Saving model ...\n",
            "Epoch: 8 \tTraining Loss: 0.314999 \tValidation Loss: 0.077020 Validation Accuracy 84.00\n",
            "Validation loss decreased (0.081085 --> 0.077020).  Saving model ...\n",
            "Epoch: 9 \tTraining Loss: 0.294053 \tValidation Loss: 0.075603 Validation Accuracy 86.00\n",
            "Validation loss decreased (0.077020 --> 0.075603).  Saving model ...\n",
            "Epoch: 10 \tTraining Loss: 0.287415 \tValidation Loss: 0.074529 Validation Accuracy 86.00\n",
            "Validation loss decreased (0.075603 --> 0.074529).  Saving model ...\n",
            "Epoch: 11 \tTraining Loss: 0.270630 \tValidation Loss: 0.071912 Validation Accuracy 86.00\n",
            "Validation loss decreased (0.074529 --> 0.071912).  Saving model ...\n",
            "Epoch: 12 \tTraining Loss: 0.260747 \tValidation Loss: 0.069625 Validation Accuracy 86.00\n",
            "Validation loss decreased (0.071912 --> 0.069625).  Saving model ...\n",
            "Epoch: 13 \tTraining Loss: 0.251742 \tValidation Loss: 0.079162 Validation Accuracy 84.00\n",
            "Epoch: 14 \tTraining Loss: 0.243560 \tValidation Loss: 0.079251 Validation Accuracy 83.00\n",
            "Epoch: 15 \tTraining Loss: 0.235132 \tValidation Loss: 0.072330 Validation Accuracy 87.00\n",
            "Epoch: 16 \tTraining Loss: 0.226858 \tValidation Loss: 0.073373 Validation Accuracy 87.00\n",
            "Epoch: 17 \tTraining Loss: 0.220605 \tValidation Loss: 0.091123 Validation Accuracy 83.00\n",
            "Epoch: 18 \tTraining Loss: 0.216604 \tValidation Loss: 0.069476 Validation Accuracy 87.00\n",
            "Validation loss decreased (0.069625 --> 0.069476).  Saving model ...\n",
            "Epoch: 19 \tTraining Loss: 0.209480 \tValidation Loss: 0.072946 Validation Accuracy 86.00\n",
            "Epoch: 20 \tTraining Loss: 0.206762 \tValidation Loss: 0.071610 Validation Accuracy 86.00\n",
            "Epoch: 21 \tTraining Loss: 0.190179 \tValidation Loss: 0.074194 Validation Accuracy 85.00\n",
            "Epoch: 22 \tTraining Loss: 0.189643 \tValidation Loss: 0.078219 Validation Accuracy 85.00\n",
            "Epoch: 23 \tTraining Loss: 0.179552 \tValidation Loss: 0.072077 Validation Accuracy 87.00\n",
            "Epoch: 24 \tTraining Loss: 0.171653 \tValidation Loss: 0.074246 Validation Accuracy 87.00\n",
            "Epoch: 25 \tTraining Loss: 0.168767 \tValidation Loss: 0.071328 Validation Accuracy 87.00\n",
            "Epoch: 26 \tTraining Loss: 0.169914 \tValidation Loss: 0.074322 Validation Accuracy 87.00\n",
            "Epoch: 27 \tTraining Loss: 0.157342 \tValidation Loss: 0.072612 Validation Accuracy 87.00\n",
            "Epoch: 28 \tTraining Loss: 0.161085 \tValidation Loss: 0.071527 Validation Accuracy 86.00\n",
            "Epoch: 29 \tTraining Loss: 0.152124 \tValidation Loss: 0.075747 Validation Accuracy 87.00\n",
            "Epoch: 30 \tTraining Loss: 0.150551 \tValidation Loss: 0.071502 Validation Accuracy 87.00\n",
            "Epoch: 31 \tTraining Loss: 0.142272 \tValidation Loss: 0.078336 Validation Accuracy 88.00\n",
            "Epoch: 32 \tTraining Loss: 0.137287 \tValidation Loss: 0.082374 Validation Accuracy 87.00\n",
            "Epoch: 33 \tTraining Loss: 0.136258 \tValidation Loss: 0.072839 Validation Accuracy 86.00\n",
            "Epoch: 34 \tTraining Loss: 0.130904 \tValidation Loss: 0.078472 Validation Accuracy 87.00\n",
            "Epoch: 35 \tTraining Loss: 0.131008 \tValidation Loss: 0.071858 Validation Accuracy 88.00\n",
            "Epoch: 36 \tTraining Loss: 0.124655 \tValidation Loss: 0.081335 Validation Accuracy 86.00\n",
            "Epoch: 37 \tTraining Loss: 0.126134 \tValidation Loss: 0.078825 Validation Accuracy 87.00\n",
            "Epoch: 38 \tTraining Loss: 0.119958 \tValidation Loss: 0.086571 Validation Accuracy 87.00\n",
            "Epoch: 39 \tTraining Loss: 0.112075 \tValidation Loss: 0.080194 Validation Accuracy 87.00\n",
            "Epoch: 40 \tTraining Loss: 0.116611 \tValidation Loss: 0.078261 Validation Accuracy 87.00\n",
            "Epoch: 41 \tTraining Loss: 0.113986 \tValidation Loss: 0.086239 Validation Accuracy 86.00\n",
            "Epoch: 42 \tTraining Loss: 0.107507 \tValidation Loss: 0.078743 Validation Accuracy 87.00\n",
            "Epoch: 43 \tTraining Loss: 0.110635 \tValidation Loss: 0.081273 Validation Accuracy 88.00\n",
            "Epoch: 44 \tTraining Loss: 0.097601 \tValidation Loss: 0.081907 Validation Accuracy 87.00\n",
            "Epoch: 45 \tTraining Loss: 0.098037 \tValidation Loss: 0.091733 Validation Accuracy 87.00\n",
            "Epoch: 46 \tTraining Loss: 0.098786 \tValidation Loss: 0.097814 Validation Accuracy 86.00\n",
            "Epoch: 47 \tTraining Loss: 0.094856 \tValidation Loss: 0.093531 Validation Accuracy 86.00\n",
            "Epoch: 48 \tTraining Loss: 0.095482 \tValidation Loss: 0.077014 Validation Accuracy 87.00\n",
            "Epoch: 49 \tTraining Loss: 0.102372 \tValidation Loss: 0.079299 Validation Accuracy 87.00\n",
            "Epoch: 50 \tTraining Loss: 0.094327 \tValidation Loss: 0.078828 Validation Accuracy 88.00\n"
          ],
          "name": "stdout"
        }
      ]
    },
    {
      "metadata": {
        "id": "kOhpDr7JHCP-",
        "colab_type": "code",
        "colab": {}
      },
      "cell_type": "code",
      "source": [
        ""
      ],
      "execution_count": 0,
      "outputs": []
    },
    {
      "metadata": {
        "id": "FFpIwDCbxH7z",
        "colab_type": "text"
      },
      "cell_type": "markdown",
      "source": [
        "## Test Image"
      ]
    },
    {
      "metadata": {
        "id": "qfnbvjkWxJK-",
        "colab_type": "code",
        "colab": {}
      },
      "cell_type": "code",
      "source": [
        "import pickle\n",
        "\n",
        "with open('test_image.pkl', 'rb') as f:\n",
        "    test_data = pickle.load(f)"
      ],
      "execution_count": 0,
      "outputs": []
    },
    {
      "metadata": {
        "id": "VhmqHODsxSDL",
        "colab_type": "code",
        "colab": {
          "base_uri": "https://localhost:8080/",
          "height": 34
        },
        "outputId": "e1f96701-17eb-41f5-dd2c-0167a791a37f"
      },
      "cell_type": "code",
      "source": [
        "len(test_data)"
      ],
      "execution_count": 116,
      "outputs": [
        {
          "output_type": "execute_result",
          "data": {
            "text/plain": [
              "2000"
            ]
          },
          "metadata": {
            "tags": []
          },
          "execution_count": 116
        }
      ]
    },
    {
      "metadata": {
        "id": "VyBXb0Fg0bGr",
        "colab_type": "code",
        "colab": {}
      },
      "cell_type": "code",
      "source": [
        "image_index = []"
      ],
      "execution_count": 0,
      "outputs": []
    },
    {
      "metadata": {
        "id": "dgQygrA70bEx",
        "colab_type": "code",
        "colab": {}
      },
      "cell_type": "code",
      "source": [
        "image_label = []"
      ],
      "execution_count": 0,
      "outputs": []
    },
    {
      "metadata": {
        "id": "nH1hSb6sxZWV",
        "colab_type": "code",
        "colab": {}
      },
      "cell_type": "code",
      "source": [
        "model.eval()\n",
        "# iterate over test data\n",
        "for data, target in test_loader:\n",
        "    # move tensors to GPU if CUDA is available\n",
        "    if train_on_gpu:\n",
        "        data, target = data.cuda(), target.cuda()\n",
        "    # forward pass: compute predicted outputs by passing inputs to the model\n",
        "    output = model(data)\n",
        "\n",
        "    # convert output probabilities to predicted class\n",
        "    _, pred = torch.max(output, 1)    \n",
        "   \n",
        "    # calculate test accuracy for each object class\n",
        "    for i in range(batch_size):\n",
        "        label = pred[i]\n",
        "        image_index.append(target[i].cpu().numpy().item())\n",
        "        image_label.append(label.cpu().numpy().item())        "
      ],
      "execution_count": 0,
      "outputs": []
    },
    {
      "metadata": {
        "id": "2v18s-9y11Jb",
        "colab_type": "code",
        "colab": {}
      },
      "cell_type": "code",
      "source": [
        "image_index"
      ],
      "execution_count": 0,
      "outputs": []
    },
    {
      "metadata": {
        "id": "51UEx62M2sY8",
        "colab_type": "code",
        "colab": {}
      },
      "cell_type": "code",
      "source": [
        "plot_label = np.array(image_label)"
      ],
      "execution_count": 0,
      "outputs": []
    },
    {
      "metadata": {
        "id": "cnOiwGSE3N0k",
        "colab_type": "code",
        "colab": {}
      },
      "cell_type": "code",
      "source": [
        "plot_train_label = np.array(label)"
      ],
      "execution_count": 0,
      "outputs": []
    },
    {
      "metadata": {
        "id": "QjuYURcI5E1I",
        "colab_type": "code",
        "colab": {}
      },
      "cell_type": "code",
      "source": [
        "import seaborn as sns"
      ],
      "execution_count": 0,
      "outputs": []
    },
    {
      "metadata": {
        "id": "WF3xqtVS5X2A",
        "colab_type": "code",
        "colab": {
          "base_uri": "https://localhost:8080/",
          "height": 333
        },
        "outputId": "1887111c-14d9-4e16-8c84-e114bf7d46e5"
      },
      "cell_type": "code",
      "source": [
        "sns.distplot(plot_train_label)"
      ],
      "execution_count": 208,
      "outputs": [
        {
          "output_type": "stream",
          "text": [
            "/usr/local/lib/python3.6/dist-packages/matplotlib/axes/_axes.py:6521: MatplotlibDeprecationWarning: \n",
            "The 'normed' kwarg was deprecated in Matplotlib 2.1 and will be removed in 3.1. Use 'density' instead.\n",
            "  alternative=\"'density'\", removal=\"3.1\")\n"
          ],
          "name": "stderr"
        },
        {
          "output_type": "execute_result",
          "data": {
            "text/plain": [
              "<matplotlib.axes._subplots.AxesSubplot at 0x7f1d07b94e80>"
            ]
          },
          "metadata": {
            "tags": []
          },
          "execution_count": 208
        },
        {
          "output_type": "display_data",
          "data": {
            "image/png": "[encoded data removed]",
            "text/plain": [
              "<Figure size 432x288 with 1 Axes>"
            ]
          },
          "metadata": {
            "tags": []
          }
        }
      ]
    },
    {
      "metadata": {
        "colab_type": "code",
        "outputId": "550c9a80-31b3-42da-c392-12c3d2e40624",
        "id": "AL_hIUTi_0Jd",
        "colab": {
          "base_uri": "https://localhost:8080/",
          "height": 333
        }
      },
      "cell_type": "code",
      "source": [
        "sns.distplot(plot_label)"
      ],
      "execution_count": 0,
      "outputs": [
        {
          "output_type": "stream",
          "text": [
            "/usr/local/lib/python3.6/dist-packages/matplotlib/axes/_axes.py:6521: MatplotlibDeprecationWarning: \n",
            "The 'normed' kwarg was deprecated in Matplotlib 2.1 and will be removed in 3.1. Use 'density' instead.\n",
            "  alternative=\"'density'\", removal=\"3.1\")\n"
          ],
          "name": "stderr"
        },
        {
          "output_type": "execute_result",
          "data": {
            "text/plain": [
              "<matplotlib.axes._subplots.AxesSubplot at 0x7f1d0382c4a8>"
            ]
          },
          "metadata": {
            "tags": []
          },
          "execution_count": 207
        },
        {
          "output_type": "display_data",
          "data": {
            "image/png": "[encoded data removed]",
            "text/plain": [
              "<Figure size 432x288 with 1 Axes>"
            ]
          },
          "metadata": {
            "tags": []
          }
        }
      ]
    }
  ]
}