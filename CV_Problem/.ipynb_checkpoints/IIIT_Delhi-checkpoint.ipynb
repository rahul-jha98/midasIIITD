{
 "cells": [
  {
   "cell_type": "code",
   "execution_count": 1,
   "metadata": {
    "colab": {
     "base_uri": "https://localhost:8080/",
     "height": 34
    },
    "colab_type": "code",
    "id": "nM5-ed7G7k8E",
    "outputId": "afd383d4-559d-4c01-c93a-b43e3c106f22"
   },
   "outputs": [
    {
     "name": "stdout",
     "output_type": "stream",
     "text": [
      "CUDA is available. Training on GPU..\n"
     ]
    }
   ],
   "source": [
    "import numpy as np\n",
    "import pandas as pd\n",
    "import torch\n",
    "\n",
    "# check if CUDA is available\n",
    "train_on_gpu = torch.cuda.is_available()\n",
    "\n",
    "if not train_on_gpu:\n",
    "  print(\"CUDA is not available. Training on CPU...\")\n",
    "else:\n",
    "  print(\"CUDA is available. Training on GPU..\")"
   ]
  },
  {
   "cell_type": "markdown",
   "metadata": {
    "colab_type": "text",
    "id": "PMXAP8qb8598"
   },
   "source": [
    "## Image Loading\n",
    "\n",
    "We are using pickle a library to handle pkl file to extract the data."
   ]
  },
  {
   "cell_type": "code",
   "execution_count": 0,
   "metadata": {
    "colab": {},
    "colab_type": "code",
    "id": "SYoszVAs84QK"
   },
   "outputs": [],
   "source": [
    "import pickle\n",
    "\n",
    "with open('train_image.pkl', 'rb') as f:\n",
    "    data = pickle.load(f)"
   ]
  },
  {
   "cell_type": "code",
   "execution_count": 0,
   "metadata": {
    "colab": {},
    "colab_type": "code",
    "id": "wSzQqO4TxdSd"
   },
   "outputs": [],
   "source": [
    "with open('test_image.pkl', 'rb') as f:\n",
    "    data2 = pickle.load(f)"
   ]
  },
  {
   "cell_type": "code",
   "execution_count": 0,
   "metadata": {
    "colab": {},
    "colab_type": "code",
    "id": "jHBCof1O92wP"
   },
   "outputs": [],
   "source": [
    "torch.set_default_tensor_type('torch.FloatTensor')"
   ]
  },
  {
   "cell_type": "code",
   "execution_count": 0,
   "metadata": {
    "colab": {},
    "colab_type": "code",
    "id": "iRh8gI1793xI"
   },
   "outputs": [],
   "source": [
    "with open('train_label.pkl', 'rb') as f:\n",
    "    label = pickle.load(f)"
   ]
  },
  {
   "cell_type": "code",
   "execution_count": 0,
   "metadata": {
    "colab": {},
    "colab_type": "code",
    "id": "TZ9hUKzd-JaM"
   },
   "outputs": [],
   "source": [
    "label = np.array(label)\n",
    "label[label == 6] = 1\n",
    "label = label.tolist()"
   ]
  },
  {
   "cell_type": "markdown",
   "metadata": {
    "colab_type": "text",
    "id": "OQze4AD8BLlO"
   },
   "source": [
    "#### Converting the data to numpy array\n",
    "\n",
    "We are converting the data from list to numpy array for easy manipulation"
   ]
  },
  {
   "cell_type": "code",
   "execution_count": 0,
   "metadata": {
    "colab": {},
    "colab_type": "code",
    "id": "NUc44_tauwul"
   },
   "outputs": [],
   "source": [
    "data = np.array(data)"
   ]
  },
  {
   "cell_type": "code",
   "execution_count": 0,
   "metadata": {
    "colab": {},
    "colab_type": "code",
    "id": "fUM2GsmGtS_x"
   },
   "outputs": [],
   "source": [
    "data2 = np.array(data2)"
   ]
  },
  {
   "cell_type": "markdown",
   "metadata": {
    "colab_type": "text",
    "id": "1sxWMlE3BSGA"
   },
   "source": [
    "#### Reshaping the data to form an image\n",
    "\n",
    "We reshape the 784 sized vector to 28x28 to form an image"
   ]
  },
  {
   "cell_type": "code",
   "execution_count": 66,
   "metadata": {
    "colab": {
     "base_uri": "https://localhost:8080/",
     "height": 34
    },
    "colab_type": "code",
    "id": "DDTJ9hvH-Xk3",
    "outputId": "c5d08674-b886-4787-d36b-d22fc55b1f69"
   },
   "outputs": [
    {
     "data": {
      "text/plain": [
       "(8000, 28, 28)"
      ]
     },
     "execution_count": 66,
     "metadata": {
      "tags": []
     },
     "output_type": "execute_result"
    }
   ],
   "source": [
    "data = data.reshape(8000, 28,28)\n",
    "data.shape"
   ]
  },
  {
   "cell_type": "code",
   "execution_count": 67,
   "metadata": {
    "colab": {
     "base_uri": "https://localhost:8080/",
     "height": 34
    },
    "colab_type": "code",
    "id": "rhFnVp1Pxk56",
    "outputId": "b61004e6-25c1-4fa6-9266-e3e0b88a3c7f"
   },
   "outputs": [
    {
     "data": {
      "text/plain": [
       "(2000, 28, 28)"
      ]
     },
     "execution_count": 67,
     "metadata": {
      "tags": []
     },
     "output_type": "execute_result"
    }
   ],
   "source": [
    "data2 = data2.reshape(2000, 28, 28)\n",
    "data2.shape"
   ]
  },
  {
   "cell_type": "markdown",
   "metadata": {
    "colab_type": "text",
    "id": "5XiKD7sbBfpm"
   },
   "source": [
    "#### Converting the reshaped data to FloatTensor\n",
    "\n",
    "For working with pytorch we need to store everything in FlaotTensor"
   ]
  },
  {
   "cell_type": "code",
   "execution_count": 0,
   "metadata": {
    "colab": {},
    "colab_type": "code",
    "id": "TeKLjA1ytZNu"
   },
   "outputs": [],
   "source": [
    "data = torch.FloatTensor(data)"
   ]
  },
  {
   "cell_type": "code",
   "execution_count": 0,
   "metadata": {
    "colab": {},
    "colab_type": "code",
    "id": "5c0CrBF7tcWi"
   },
   "outputs": [],
   "source": [
    "data2 = torch.FloatTensor(data2)"
   ]
  },
  {
   "cell_type": "markdown",
   "metadata": {
    "colab_type": "text",
    "id": "U-i4mOD8_QT4"
   },
   "source": [
    "## Prepare images for model"
   ]
  },
  {
   "cell_type": "markdown",
   "metadata": {
    "colab_type": "text",
    "id": "kYeFmV_lBpvy"
   },
   "source": [
    "The class **MyImages** extends the Dataset class of Python and is used to form datasets that can be used by the model. \n",
    "\n",
    "\n",
    "The getitem function returns the image with proper transforms and the correct label.\n",
    "\n",
    "The length function returns the number of items in the dataset"
   ]
  },
  {
   "cell_type": "code",
   "execution_count": 0,
   "metadata": {
    "colab": {},
    "colab_type": "code",
    "id": "p7KBtBrwCKDu"
   },
   "outputs": [],
   "source": [
    "from PIL import Image\n",
    "from torchvision import datasets\n",
    "import torchvision.transforms as transforms\n",
    "from torch.utils.data.sampler import SubsetRandomSampler\n",
    "\n",
    "class MyImages(torch.utils.data.Dataset):\n",
    "  \n",
    "  def __init__(self,\n",
    "                 images,\n",
    "                 labels,\n",
    "                 transform=None):\n",
    "    self.images = images\n",
    "    self.labels = labels\n",
    "    self.transform = transform\n",
    "    \n",
    "    \n",
    "    \n",
    "    \n",
    "  def __getitem__(self, index):\n",
    "    img, target = self.images[index], self.labels[index]\n",
    "\n",
    "    img = Image.fromarray(img.squeeze().numpy(), mode='F')\n",
    "    \n",
    "    if self.transform is not None:\n",
    "      img = self.transform(img)\n",
    "    \n",
    "    return img, target\n",
    "  \n",
    "  \n",
    "  \n",
    "  def __len__(self):\n",
    "        \"\"\"Return size of dataset.\"\"\"\n",
    "        return len(self.labels)"
   ]
  },
  {
   "cell_type": "markdown",
   "metadata": {
    "colab_type": "text",
    "id": "rxKGDBJIOeqE"
   },
   "source": [
    "The class **MyTestImages** extends the Dataset class of Python and is used to form datasets that can be used by the model for test purpose. \n",
    "\n",
    "\n",
    "The getitem function returns the image with proper transforms and the index\n",
    "\n",
    "The length function returns the number of items in the dataset"
   ]
  },
  {
   "cell_type": "code",
   "execution_count": 0,
   "metadata": {
    "colab": {},
    "colab_type": "code",
    "id": "t2MrEDsuyP0U"
   },
   "outputs": [],
   "source": [
    "class MyTestImages(torch.utils.data.Dataset):\n",
    "  \n",
    "  def __init__(self,\n",
    "                 images,\n",
    "                 transform=None):\n",
    "    self.images = images\n",
    "    self.transform = transform\n",
    "    \n",
    "    \n",
    "    \n",
    "    \n",
    "  def __getitem__(self, index):\n",
    "    img, idx = self.images[index], index\n",
    "\n",
    "    img = Image.fromarray(img.squeeze().numpy(), mode='F')\n",
    "    \n",
    "    if self.transform is not None:\n",
    "      img = self.transform(img)\n",
    "    \n",
    "    return img, idx\n",
    "  \n",
    "  \n",
    "  \n",
    "  def __len__(self):\n",
    "        \"\"\"Return size of dataset.\"\"\"\n",
    "        return self.images.shape[0]"
   ]
  },
  {
   "cell_type": "code",
   "execution_count": 0,
   "metadata": {
    "colab": {},
    "colab_type": "code",
    "id": "LPFjtBIeO3yy"
   },
   "outputs": [],
   "source": [
    "# num of subporcesses for data loading\n",
    "num_workers = 0\n",
    "\n",
    "# how many samples per batch to load\n",
    "batch_size = 32\n",
    "\n",
    "# percentage of training set to use as validation data\n",
    "valid_size = 0.2"
   ]
  },
  {
   "cell_type": "markdown",
   "metadata": {
    "colab_type": "text",
    "id": "Kq034fboj6H2"
   },
   "source": [
    "Here we are defining the transforms that will be applied on the images and creating the dataset object"
   ]
  },
  {
   "cell_type": "code",
   "execution_count": 0,
   "metadata": {
    "colab": {},
    "colab_type": "code",
    "id": "SuTuelLBO_66"
   },
   "outputs": [],
   "source": [
    "# Randomly flip data of train images and convert data to a transfromed torch.FloatTensor\n",
    "transform = transforms.Compose([\n",
    "    transforms.RandomHorizontalFlip(p=0.3),\n",
    "    transforms.ToTensor()\n",
    "])\n",
    "\n",
    "# The test data need not be flipped\n",
    "transform_test = transforms.Compose([\n",
    "    transforms.ToTensor()\n",
    "])\n",
    "\n",
    "# Dataset for train images\n",
    "train_data = MyImages(data, label, transform = transform)\n",
    "\n",
    "# Dataset for test images\n",
    "test_data = MyTestImages(data2, transform = transform_test)"
   ]
  },
  {
   "cell_type": "markdown",
   "metadata": {
    "colab_type": "text",
    "id": "wbZcqi6lkYSL"
   },
   "source": [
    "Then we get the indexes that will be used for train data and valid data and create a Random Sampler so that our model does not see the images in same pattern in each epoch. This randomness will prevent overfitting"
   ]
  },
  {
   "cell_type": "code",
   "execution_count": 0,
   "metadata": {
    "colab": {},
    "colab_type": "code",
    "id": "J7XPt_w4PG-2"
   },
   "outputs": [],
   "source": [
    "# obtaining training indices that will be used for validataion\n",
    "num_train = len(train_data)\n",
    "indices = list(range(num_train))\n",
    "np.random.shuffle(indices)\n",
    "split = int(np.floor(valid_size * num_train))\n",
    "train_idx, valid_idx = indices[split:], indices[:split]\n",
    "\n",
    "# define samplers for obtaining training and validation batches\n",
    "train_sampler = SubsetRandomSampler(train_idx)\n",
    "valid_sampler = SubsetRandomSampler(valid_idx)"
   ]
  },
  {
   "cell_type": "markdown",
   "metadata": {
    "colab_type": "text",
    "id": "0lbzlrvVk3ZL"
   },
   "source": [
    "#### Creating the loaders\n",
    "\n",
    "Finally we create a data loader to load data in batches for our model. Here we are creating the train loader, valid loader and test loader"
   ]
  },
  {
   "cell_type": "code",
   "execution_count": 0,
   "metadata": {
    "colab": {},
    "colab_type": "code",
    "id": "yZfZ5i1m-7uH"
   },
   "outputs": [],
   "source": [
    "#Prepare data loaders\n",
    "train_loader = torch.utils.data.DataLoader(train_data, batch_size=batch_size,\n",
    "                                          sampler = train_sampler,\n",
    "                                           num_workers = num_workers)\n",
    "\n",
    "valid_loader = torch.utils.data.DataLoader(train_data, batch_size=batch_size,\n",
    "                                          sampler = valid_sampler,\n",
    "                                           num_workers = num_workers)\n",
    "\n",
    "test_loader = torch.utils.data.DataLoader(test_data, batch_size = batch_size,\n",
    "                                          num_workers = num_workers)"
   ]
  },
  {
   "cell_type": "markdown",
   "metadata": {
    "colab_type": "text",
    "id": "nwFLnesTlNjG"
   },
   "source": [
    "This is not a necessary step, this is just to visualise one batch of the images to understand what our data looks like and also to test if everything so far went well"
   ]
  },
  {
   "cell_type": "code",
   "execution_count": 76,
   "metadata": {
    "colab": {
     "base_uri": "https://localhost:8080/",
     "height": 288
    },
    "colab_type": "code",
    "id": "ufMmnnDk-9u1",
    "outputId": "cc6b810d-27ed-4dfa-d5ac-8166ab418721"
   },
   "outputs": [
    {
     "data": {
      "image/png": "[encoded data removed]",
      "text/plain": [
       "<Figure size 1800x288 with 16 Axes>"
      ]
     },
     "metadata": {
      "tags": []
     },
     "output_type": "display_data"
    }
   ],
   "source": [
    "import matplotlib.pyplot as plt\n",
    "%matplotlib inline \n",
    "\n",
    "#obtain one batch of training images\n",
    "dataiter = iter(train_loader)\n",
    "images, labels = dataiter.next()\n",
    "\n",
    "images.numpy()\n",
    "\n",
    "\n",
    "# plot the images in the batch\n",
    "fig = plt.figure(figsize=(25,4))\n",
    "for idx in np.arange(16):\n",
    "  ax = fig.add_subplot(2, 16/2, idx + 1, xticks = [], yticks = [])\n",
    "  ax.imshow(np.squeeze(images[idx]))\n",
    "  # print out the correct labels for each image\n",
    "  ax.set_title(str(labels[idx].item()))"
   ]
  },
  {
   "cell_type": "markdown",
   "metadata": {
    "colab_type": "text",
    "id": "oSLKZQWMG5TE"
   },
   "source": [
    "# Defining the Architecture"
   ]
  },
  {
   "cell_type": "markdown",
   "metadata": {
    "colab_type": "text",
    "id": "diadvrr6PUrO"
   },
   "source": [
    "## Basic fully connected layer\n",
    "\n",
    "Since the data is standard greyscale images of MNIST, the first try was a model which flattens the image and works only with fully connected layers.\n",
    "\n",
    "But the problem is that unlike the digits MNIST data, this data is not uniform. Like theres a whitish T-Shirt as well as Greyish one. So, the model fails miserably"
   ]
  },
  {
   "cell_type": "code",
   "execution_count": 77,
   "metadata": {
    "colab": {
     "base_uri": "https://localhost:8080/",
     "height": 119
    },
    "colab_type": "code",
    "id": "E47KGcApPT4X",
    "outputId": "d8c2d5ec-21e6-44e7-fa93-9e743fb55a42"
   },
   "outputs": [
    {
     "name": "stdout",
     "output_type": "stream",
     "text": [
      "FCNet(\n",
      "  (fc1): Linear(in_features=784, out_features=512, bias=True)\n",
      "  (fc2): Linear(in_features=512, out_features=128, bias=True)\n",
      "  (fc3): Linear(in_features=128, out_features=4, bias=True)\n",
      "  (dropout): Dropout(p=0.25)\n",
      ")\n"
     ]
    }
   ],
   "source": [
    "import torch.nn as nn\n",
    "import torch.nn.functional as F\n",
    "\n",
    "class FCNet(nn.Module):\n",
    "  def __init__(self):\n",
    "    super(FCNet, self).__init__()\n",
    "\n",
    "    # linear layer\n",
    "    self.fc1 = nn.Linear(784, 512)\n",
    "    self.fc2 = nn.Linear(512, 128)    \n",
    "    self.fc3 = nn.Linear(128, 4)\n",
    "    \n",
    "    # dropout layer (p = 0.25)\n",
    "    self.dropout = nn.Dropout(0.25)\n",
    "  \n",
    "  \n",
    "  def forward(self, x):\n",
    "    x = x.view(-1, 1 * 28 * 28)\n",
    "    \n",
    "    # add first hidden layer with relu activation\n",
    "    x = F.relu(self.fc1(x))\n",
    "    #add dropout\n",
    "    x = self.dropout(x)\n",
    "    \n",
    "    # add second hidden layer\n",
    "    x = F.relu(self.fc2(x))\n",
    "    x = self.dropout(x)\n",
    "    \n",
    "    x = self.fc3(x)\n",
    "    \n",
    "    return x\n",
    "  \n",
    "#initialize the NN\n",
    "model = FCNet()\n",
    "print(model)\n",
    "\n",
    "# move tensors to GPU if CUDA is available\n",
    "if train_on_gpu:\n",
    "  model.cuda()"
   ]
  },
  {
   "cell_type": "code",
   "execution_count": 0,
   "metadata": {
    "colab": {},
    "colab_type": "code",
    "id": "AB7pH7LUQPx6"
   },
   "outputs": [],
   "source": [
    "# specify the loss function\n",
    "criterion = nn.CrossEntropyLoss()\n",
    "\n",
    "# specify the optimizer and learning rate = 0.01\n",
    "optimizer = torch.optim.SGD(model.parameters(), lr = 0.01)"
   ]
  },
  {
   "cell_type": "markdown",
   "metadata": {
    "colab_type": "text",
    "id": "YicATN3RTSBb"
   },
   "source": [
    "## Simple DL Model \n",
    "\n",
    "The second model I came up with uses 2 units of (Conv, Conv, MaxPool) and then one conv and pool. After this we flatten and pass it through fully connected layers. The conv layer helps identify patterns which were earlier difficult to identify"
   ]
  },
  {
   "cell_type": "code",
   "execution_count": 79,
   "metadata": {
    "colab": {
     "base_uri": "https://localhost:8080/",
     "height": 221
    },
    "colab_type": "code",
    "id": "h4F0yC82Tw1f",
    "outputId": "982904ae-1829-408f-9713-28554b1303a0"
   },
   "outputs": [
    {
     "name": "stdout",
     "output_type": "stream",
     "text": [
      "SimpleDLNet(\n",
      "  (conv1): Conv2d(1, 16, kernel_size=(3, 3), stride=(1, 1), padding=(1, 1))\n",
      "  (conv1b): Conv2d(16, 24, kernel_size=(3, 3), stride=(1, 1), padding=(1, 1))\n",
      "  (conv2): Conv2d(24, 32, kernel_size=(3, 3), stride=(1, 1), padding=(1, 1))\n",
      "  (conv2b): Conv2d(32, 48, kernel_size=(3, 3), stride=(1, 1), padding=(1, 1))\n",
      "  (conv3): Conv2d(48, 64, kernel_size=(3, 3), stride=(1, 1), padding=(1, 1))\n",
      "  (pool): MaxPool2d(kernel_size=2, stride=2, padding=0, dilation=1, ceil_mode=False)\n",
      "  (fc1): Linear(in_features=576, out_features=512, bias=True)\n",
      "  (fc2): Linear(in_features=512, out_features=128, bias=True)\n",
      "  (fc3): Linear(in_features=128, out_features=4, bias=True)\n",
      "  (dropout): Dropout(p=0.25)\n",
      ")\n"
     ]
    }
   ],
   "source": [
    "import torch.nn as nn\n",
    "import torch.nn.functional as F\n",
    "\n",
    "class SimpleDLNet(nn.Module):\n",
    "  def __init__(self):\n",
    "    super(SimpleDLNet, self).__init__()\n",
    "     # convolutional layer (sees 28 x 28 x 1 tensor)\n",
    "    self.conv1 = nn.Conv2d(1, 16, 3, padding = 1)\n",
    "    self.conv1b = nn.Conv2d(16, 24, 3, padding = 1)\n",
    "    \n",
    "    # convolutional layer (sees 14 x 14 x 16 tensor)\n",
    "    self.conv2 = nn.Conv2d(24, 32, 3, padding = 1)\n",
    "    self.conv2b = nn.Conv2d(32, 48, 3, padding = 1)\n",
    "    \n",
    "    # convolutional layer (sees 7 x 7 x 48 tensor)\n",
    "    self.conv3 = nn.Conv2d(48, 64, 3, padding = 1)\n",
    "    \n",
    "    # maxpool layers\n",
    "    self.pool = nn.MaxPool2d(2,2)\n",
    "    \n",
    "    # linear layer\n",
    "    self.fc1 = nn.Linear(64 * 3 * 3, 512)\n",
    "    # linear layer (512 -> 128)\n",
    "    self.fc2 = nn.Linear(512, 128)\n",
    "    # linear layer (128 -> 4)\n",
    "    self.fc3 = nn.Linear(128, 4)\n",
    "    \n",
    "    # dropout layer (p = 0.25)\n",
    "    self.dropout = nn.Dropout(0.25)\n",
    "  \n",
    "  \n",
    "  def forward(self, x):\n",
    "    x = F.relu(self.conv1(x))\n",
    "    x = self.pool(F.relu(self.conv1b(x)))\n",
    "    x = F.relu(self.conv2(x))\n",
    "    x = self.pool(F.relu(self.conv2b(x)))\n",
    "    x = self.pool(F.relu(self.conv3(x)))\n",
    "    \n",
    "    # flatten the image\n",
    "    x = x.view(-1, 64 * 3 * 3)\n",
    "    \n",
    "    # add dropout\n",
    "    x = self.dropout(x)\n",
    "    \n",
    "    # add first hidden layer with relu activation\n",
    "    x = F.relu(self.fc1(x))\n",
    "    \n",
    "    #add dropout\n",
    "    x = self.dropout(x)\n",
    "    \n",
    "    # add second hidden layer\n",
    "    x = F.relu(self.fc2(x))\n",
    "    \n",
    "    x = self.dropout(x)\n",
    "    \n",
    "    x = self.fc3(x)\n",
    "    \n",
    "    return x\n",
    "  \n",
    "#initialize the NN\n",
    "model = SimpleDLNet()\n",
    "print(model)\n",
    "\n",
    "# move tensors to GPU if CUDA is available\n",
    "if train_on_gpu:\n",
    "  model.cuda()"
   ]
  },
  {
   "cell_type": "markdown",
   "metadata": {
    "colab_type": "text",
    "id": "zTq-OPc-xRGA"
   },
   "source": [
    "We use Cross Entropy Loss and use SGD(Stochastic gradient descent) as our optimizer"
   ]
  },
  {
   "cell_type": "code",
   "execution_count": 0,
   "metadata": {
    "colab": {},
    "colab_type": "code",
    "id": "nKUyBhL4Uejm"
   },
   "outputs": [],
   "source": [
    "# specify the loss function\n",
    "criterion = nn.CrossEntropyLoss()\n",
    "\n",
    "# specify the optimizer and learning rate = 0.01\n",
    "optimizer = torch.optim.SGD(model.parameters(), lr = 0.01)"
   ]
  },
  {
   "cell_type": "markdown",
   "metadata": {
    "colab_type": "text",
    "id": "g8NAyEXMxktC"
   },
   "source": [
    "#### Training\n",
    "\n",
    "This is the train loop where we save the weights of the model whenever the accuarcy on the validation set tends to increase. This way we can make sure that the weights we are using are the one which maximises accuracy on unseen data"
   ]
  },
  {
   "cell_type": "code",
   "execution_count": 81,
   "metadata": {
    "colab": {
     "base_uri": "https://localhost:8080/",
     "height": 1717
    },
    "colab_type": "code",
    "id": "9CfHlA10Qpuy",
    "outputId": "7ec18a06-7d23-4677-e3f1-2e720316988f"
   },
   "outputs": [
    {
     "name": "stdout",
     "output_type": "stream",
     "text": [
      "Epoch: 1 \tTraining Loss: 0.730243 \tValidation Loss: 0.143489 Validation Accuracy 67.56\n",
      "Validation accuracy increased (0.00 --> 67.56).  Saving model ...\n",
      "\n",
      "Epoch: 2 \tTraining Loss: 0.552124 \tValidation Loss: 0.128291 Validation Accuracy 72.19\n",
      "Validation accuracy increased (67.56 --> 72.19).  Saving model ...\n",
      "\n",
      "Epoch: 3 \tTraining Loss: 0.497627 \tValidation Loss: 0.123485 Validation Accuracy 75.88\n",
      "Validation accuracy increased (72.19 --> 75.88).  Saving model ...\n",
      "\n",
      "Epoch: 4 \tTraining Loss: 0.454002 \tValidation Loss: 0.099610 Validation Accuracy 80.12\n",
      "Validation accuracy increased (75.88 --> 80.12).  Saving model ...\n",
      "\n",
      "Epoch: 5 \tTraining Loss: 0.415783 \tValidation Loss: 0.099274 Validation Accuracy 80.38\n",
      "Validation accuracy increased (80.12 --> 80.38).  Saving model ...\n",
      "\n",
      "Epoch: 6 \tTraining Loss: 0.383674 \tValidation Loss: 0.091034 Validation Accuracy 82.75\n",
      "Validation accuracy increased (80.38 --> 82.75).  Saving model ...\n",
      "\n",
      "Epoch: 7 \tTraining Loss: 0.362682 \tValidation Loss: 0.093024 Validation Accuracy 80.50\n",
      "\n",
      "Epoch: 8 \tTraining Loss: 0.345706 \tValidation Loss: 0.089686 Validation Accuracy 82.31\n",
      "\n",
      "Epoch: 9 \tTraining Loss: 0.333833 \tValidation Loss: 0.084012 Validation Accuracy 83.00\n",
      "Validation accuracy increased (82.75 --> 83.00).  Saving model ...\n",
      "\n",
      "Epoch: 10 \tTraining Loss: 0.322799 \tValidation Loss: 0.083035 Validation Accuracy 83.50\n",
      "Validation accuracy increased (83.00 --> 83.50).  Saving model ...\n",
      "\n",
      "Epoch: 11 \tTraining Loss: 0.315696 \tValidation Loss: 0.080004 Validation Accuracy 84.19\n",
      "Validation accuracy increased (83.50 --> 84.19).  Saving model ...\n",
      "\n",
      "Epoch: 12 \tTraining Loss: 0.306931 \tValidation Loss: 0.085825 Validation Accuracy 83.75\n",
      "\n",
      "Epoch: 13 \tTraining Loss: 0.289254 \tValidation Loss: 0.079585 Validation Accuracy 83.94\n",
      "\n",
      "Epoch: 14 \tTraining Loss: 0.288712 \tValidation Loss: 0.073211 Validation Accuracy 85.62\n",
      "Validation accuracy increased (84.19 --> 85.62).  Saving model ...\n",
      "\n",
      "Epoch: 15 \tTraining Loss: 0.274289 \tValidation Loss: 0.073002 Validation Accuracy 85.19\n",
      "\n",
      "Epoch: 16 \tTraining Loss: 0.275415 \tValidation Loss: 0.078404 Validation Accuracy 84.81\n",
      "\n",
      "Epoch: 17 \tTraining Loss: 0.260437 \tValidation Loss: 0.075810 Validation Accuracy 85.31\n",
      "\n",
      "Epoch: 18 \tTraining Loss: 0.253208 \tValidation Loss: 0.074626 Validation Accuracy 85.00\n",
      "\n",
      "Epoch: 19 \tTraining Loss: 0.245640 \tValidation Loss: 0.073893 Validation Accuracy 85.62\n",
      "Validation accuracy increased (85.62 --> 85.62).  Saving model ...\n",
      "\n",
      "Epoch: 20 \tTraining Loss: 0.243798 \tValidation Loss: 0.073492 Validation Accuracy 85.62\n",
      "Validation accuracy increased (85.62 --> 85.62).  Saving model ...\n",
      "\n",
      "Epoch: 21 \tTraining Loss: 0.228089 \tValidation Loss: 0.072312 Validation Accuracy 86.00\n",
      "Validation accuracy increased (85.62 --> 86.00).  Saving model ...\n",
      "\n",
      "Epoch: 22 \tTraining Loss: 0.228527 \tValidation Loss: 0.069924 Validation Accuracy 85.88\n",
      "\n",
      "Epoch: 23 \tTraining Loss: 0.221268 \tValidation Loss: 0.071011 Validation Accuracy 84.88\n",
      "\n",
      "Epoch: 24 \tTraining Loss: 0.207695 \tValidation Loss: 0.069851 Validation Accuracy 86.06\n",
      "Validation accuracy increased (86.00 --> 86.06).  Saving model ...\n",
      "\n",
      "Epoch: 25 \tTraining Loss: 0.213416 \tValidation Loss: 0.074720 Validation Accuracy 84.88\n",
      "\n",
      "Epoch: 26 \tTraining Loss: 0.199455 \tValidation Loss: 0.073513 Validation Accuracy 85.81\n",
      "\n",
      "Epoch: 27 \tTraining Loss: 0.196951 \tValidation Loss: 0.067836 Validation Accuracy 86.56\n",
      "Validation accuracy increased (86.06 --> 86.56).  Saving model ...\n",
      "\n",
      "Epoch: 28 \tTraining Loss: 0.194965 \tValidation Loss: 0.068342 Validation Accuracy 87.00\n",
      "Validation accuracy increased (86.56 --> 87.00).  Saving model ...\n",
      "\n",
      "Epoch: 29 \tTraining Loss: 0.184941 \tValidation Loss: 0.071665 Validation Accuracy 86.88\n",
      "\n",
      "Epoch: 30 \tTraining Loss: 0.183447 \tValidation Loss: 0.070383 Validation Accuracy 87.19\n",
      "Validation accuracy increased (87.00 --> 87.19).  Saving model ...\n",
      "\n",
      "Epoch: 31 \tTraining Loss: 0.177125 \tValidation Loss: 0.071939 Validation Accuracy 86.12\n",
      "\n",
      "Epoch: 32 \tTraining Loss: 0.163833 \tValidation Loss: 0.070117 Validation Accuracy 86.94\n",
      "\n",
      "Epoch: 33 \tTraining Loss: 0.167746 \tValidation Loss: 0.068777 Validation Accuracy 87.31\n",
      "Validation accuracy increased (87.19 --> 87.31).  Saving model ...\n",
      "\n",
      "Epoch: 34 \tTraining Loss: 0.164745 \tValidation Loss: 0.069001 Validation Accuracy 87.62\n",
      "Validation accuracy increased (87.31 --> 87.62).  Saving model ...\n",
      "\n",
      "Epoch: 35 \tTraining Loss: 0.152564 \tValidation Loss: 0.068301 Validation Accuracy 88.25\n",
      "Validation accuracy increased (87.62 --> 88.25).  Saving model ...\n",
      "\n",
      "Epoch: 36 \tTraining Loss: 0.154361 \tValidation Loss: 0.074387 Validation Accuracy 86.44\n",
      "\n",
      "Epoch: 37 \tTraining Loss: 0.156430 \tValidation Loss: 0.076905 Validation Accuracy 85.69\n",
      "\n",
      "Epoch: 38 \tTraining Loss: 0.146051 \tValidation Loss: 0.074928 Validation Accuracy 86.94\n",
      "\n",
      "Epoch: 39 \tTraining Loss: 0.155867 \tValidation Loss: 0.071433 Validation Accuracy 87.44\n",
      "\n",
      "Epoch: 40 \tTraining Loss: 0.133964 \tValidation Loss: 0.070237 Validation Accuracy 86.31\n",
      "\n"
     ]
    }
   ],
   "source": [
    "# number of epochs to train the model\n",
    "n_epochs = 40 # you may increase this number to train a final model\n",
    "\n",
    "valid_acc_min = 0 # track change in validation accuracy\n",
    "\n",
    "for epoch in range(1, n_epochs+1):\n",
    "   \n",
    "    # keep track of training and validation loss\n",
    "    train_loss = 0.0\n",
    "    valid_loss = 0.0\n",
    "    \n",
    "    \n",
    "    # train the model #\n",
    "    \n",
    "    model.train()\n",
    "    for data, target in train_loader:\n",
    "        # move tensors to GPU if CUDA is available\n",
    "        if train_on_gpu:\n",
    "            data, target = data.cuda(), target.cuda()\n",
    "        # clear the gradients of all optimized variables\n",
    "        optimizer.zero_grad()\n",
    "        # forward pass: compute predicted outputs by passing inputs to the model\n",
    "        output = model(data)\n",
    "        # calculate the batch loss\n",
    "        loss = criterion(output, target)\n",
    "        # backward pass: compute gradient of the loss with respect to model parameters\n",
    "        loss.backward()\n",
    "        # perform a single optimization step (parameter update)\n",
    "        optimizer.step()\n",
    "        # update training loss\n",
    "        train_loss += loss.item()*data.size(0)\n",
    "        \n",
    "\n",
    "    # validate the model #\n",
    "\n",
    "    model.eval()\n",
    "    correct = 0\n",
    "    total = 0\n",
    "    for data, target in valid_loader:\n",
    "        # move tensors to GPU if CUDA is available\n",
    "        if train_on_gpu:\n",
    "            data, target = data.cuda(), target.cuda()\n",
    "        # forward pass: compute predicted outputs by passing inputs to the model\n",
    "        output = model(data)\n",
    "        values, indices = torch.max(output, 1)\n",
    "        correct += torch.sum(indices == target)\n",
    "        total += batch_size\n",
    "        # calculate the batch loss\n",
    "        loss = criterion(output, target)\n",
    "        # update average validation loss \n",
    "        valid_loss += loss.item()*data.size(0)\n",
    "    \n",
    "    # calculate average losses\n",
    "    train_loss = train_loss/len(train_loader.dataset)\n",
    "    valid_loss = valid_loss/len(valid_loader.dataset)\n",
    "        \n",
    "    accuracy = (float(correct) * 100.0) / float(total)\n",
    "    # print training/validation statistics \n",
    "    print('Epoch: {} \\tTraining Loss: {:.6f} \\tValidation Loss: {:.6f} Validation Accuracy {:.2f}'.format(\n",
    "        epoch, train_loss, valid_loss, accuracy))\n",
    "    \n",
    "    # save model if validation loss has decreased\n",
    "    if accuracy >= valid_acc_min:\n",
    "        print('Validation accuracy increased ({:.2f} --> {:.2f}).  Saving model ...'.format(\n",
    "        valid_acc_min,\n",
    "        accuracy))\n",
    "        torch.save(model.state_dict(), 'model_cifar.pt')\n",
    "        valid_acc_min = accuracy\n",
    "    print()"
   ]
  },
  {
   "cell_type": "markdown",
   "metadata": {
    "colab_type": "text",
    "id": "7di3lm4wUpjI"
   },
   "source": [
    "## A Bit Modified DL Network\n",
    "\n",
    "The since the second model is working fine we can up the level by implementing more kernels in each layer of convolutional layer and also increase the numb"
   ]
  },
  {
   "cell_type": "code",
   "execution_count": 43,
   "metadata": {
    "colab": {
     "base_uri": "https://localhost:8080/",
     "height": 255
    },
    "colab_type": "code",
    "id": "0NGigcms7Bq5",
    "outputId": "74d19c84-a594-47cc-b786-e9eccc9c84cc"
   },
   "outputs": [
    {
     "name": "stdout",
     "output_type": "stream",
     "text": [
      "DLNet(\n",
      "  (conv1): Conv2d(1, 16, kernel_size=(3, 3), stride=(1, 1), padding=(1, 1))\n",
      "  (conv1b): Conv2d(16, 32, kernel_size=(3, 3), stride=(1, 1), padding=(1, 1))\n",
      "  (conv2): Conv2d(32, 64, kernel_size=(3, 3), stride=(1, 1), padding=(1, 1))\n",
      "  (conv2b): Conv2d(64, 128, kernel_size=(3, 3), stride=(1, 1), padding=(1, 1))\n",
      "  (conv3): Conv2d(128, 256, kernel_size=(3, 3), stride=(1, 1), padding=(1, 1))\n",
      "  (conv3b): Conv2d(256, 512, kernel_size=(3, 3), stride=(1, 1), padding=(1, 1))\n",
      "  (pool): MaxPool2d(kernel_size=2, stride=2, padding=0, dilation=1, ceil_mode=False)\n",
      "  (fc1): Linear(in_features=4608, out_features=1024, bias=True)\n",
      "  (fc2): Linear(in_features=1024, out_features=512, bias=True)\n",
      "  (fc2b): Linear(in_features=512, out_features=128, bias=True)\n",
      "  (fc3): Linear(in_features=128, out_features=4, bias=True)\n",
      "  (dropout): Dropout(p=0.25)\n",
      ")\n"
     ]
    }
   ],
   "source": [
    "import torch.nn as nn\n",
    "import torch.nn.functional as F\n",
    "\n",
    "class DLNet(nn.Module):\n",
    "  def __init__(self):\n",
    "    super(DLNet, self).__init__()\n",
    "     # convolutional layer (sees 28 x 28 x 1 tensor)\n",
    "    self.conv1 = nn.Conv2d(1, 16, 3, padding = 1)\n",
    "    self.conv1b = nn.Conv2d(16, 32, 3, padding = 1)\n",
    "    \n",
    "    # convolutional layer (sees 14 x 14 x 16 tensor)\n",
    "    self.conv2 = nn.Conv2d(32, 64, 3, padding = 1)\n",
    "    self.conv2b = nn.Conv2d(64, 128, 3, padding = 1)\n",
    "    # convolutional layer (sees 7 x 7 x 32 tensor)\n",
    "    self.conv3 = nn.Conv2d(128, 256, 3, padding = 1)\n",
    "    self.conv3b = nn.Conv2d(256, 512, 3, padding = 1)\n",
    "    # maxpool layers\n",
    "    self.pool = nn.MaxPool2d(2,2)\n",
    "    \n",
    "    # linear layer\n",
    "    self.fc1 = nn.Linear(512 * 3 * 3, 1024)\n",
    "    self.fc2 = nn.Linear(1024, 512)\n",
    "    # linear layer (512 -> 10)\n",
    "    self.fc2b = nn.Linear(512, 128)\n",
    "    self.fc3 = nn.Linear(128, 4)\n",
    "    \n",
    "    # dropout layer (p = 0.25)\n",
    "    self.dropout = nn.Dropout(0.25)\n",
    "  \n",
    "  \n",
    "  def forward(self, x):\n",
    "    x = F.relu(self.conv1(x))\n",
    "    x = self.pool(F.relu(self.conv1b(x)))\n",
    "    x = F.relu(self.conv2(x))\n",
    "    x = self.pool(F.relu(self.conv2b(x)))\n",
    "    x = F.relu(self.conv3(x))\n",
    "    x = self.pool(F.relu(self.conv3b(x)))\n",
    "    # flatten the image\n",
    "    x = x.view(-1, 512 * 3 * 3)\n",
    "    \n",
    "    # add dropout\n",
    "    # add first hidden layer with relu activation\n",
    "    x = F.relu(self.fc1(x))\n",
    "    #add dropout\n",
    "    x = self.dropout(x)\n",
    "    \n",
    "    # add second hidden layer\n",
    "    x = F.relu(self.fc2(x))\n",
    "    x = self.dropout(x)\n",
    "    \n",
    "    x = F.relu(self.fc2b(x))    \n",
    "    x = self.dropout(x)\n",
    "    \n",
    "    x = self.fc3(x)\n",
    "    \n",
    "    return x\n",
    "  \n",
    "#initialize the NN\n",
    "model = DLNet()\n",
    "print(model)\n",
    "\n",
    "# move tensors to GPU if CUDA is available\n",
    "if train_on_gpu:\n",
    "  model.cuda()"
   ]
  },
  {
   "cell_type": "code",
   "execution_count": 0,
   "metadata": {
    "colab": {},
    "colab_type": "code",
    "id": "lP9cz5AKG8b4"
   },
   "outputs": [],
   "source": [
    "# specify the loss function\n",
    "criterion = nn.CrossEntropyLoss()\n",
    "\n",
    "# specify the optimizer and learning rate = 0.01\n",
    "optimizer = torch.optim.SGD(model.parameters(), lr = 0.01)"
   ]
  },
  {
   "cell_type": "markdown",
   "metadata": {
    "colab_type": "text",
    "id": "hRKtgyaVx-KJ"
   },
   "source": [
    "#### Training"
   ]
  },
  {
   "cell_type": "code",
   "execution_count": 45,
   "metadata": {
    "colab": {
     "base_uri": "https://localhost:8080/",
     "height": 1700
    },
    "colab_type": "code",
    "id": "HjU3gTu4G-_1",
    "outputId": "653a488f-0ea9-400e-cb22-659ad900a275"
   },
   "outputs": [
    {
     "name": "stdout",
     "output_type": "stream",
     "text": [
      "Epoch: 1 \tTraining Loss: 0.945164 \tValidation Loss: 0.182580 Validation Accuracy 59.94\n",
      "Validation accuracy increased (0.00 --> 59.94).  Saving model ...\n",
      "\n",
      "Epoch: 2 \tTraining Loss: 0.650158 \tValidation Loss: 0.145984 Validation Accuracy 66.50\n",
      "Validation accuracy increased (59.94 --> 66.50).  Saving model ...\n",
      "\n",
      "Epoch: 3 \tTraining Loss: 0.577450 \tValidation Loss: 0.137996 Validation Accuracy 69.94\n",
      "Validation accuracy increased (66.50 --> 69.94).  Saving model ...\n",
      "\n",
      "Epoch: 4 \tTraining Loss: 0.541383 \tValidation Loss: 0.135674 Validation Accuracy 68.75\n",
      "\n",
      "Epoch: 5 \tTraining Loss: 0.511949 \tValidation Loss: 0.122549 Validation Accuracy 74.06\n",
      "Validation accuracy increased (69.94 --> 74.06).  Saving model ...\n",
      "\n",
      "Epoch: 6 \tTraining Loss: 0.489656 \tValidation Loss: 0.120249 Validation Accuracy 75.69\n",
      "Validation accuracy increased (74.06 --> 75.69).  Saving model ...\n",
      "\n",
      "Epoch: 7 \tTraining Loss: 0.461377 \tValidation Loss: 0.128635 Validation Accuracy 71.69\n",
      "\n",
      "Epoch: 8 \tTraining Loss: 0.440839 \tValidation Loss: 0.115351 Validation Accuracy 75.38\n",
      "\n",
      "Epoch: 9 \tTraining Loss: 0.418872 \tValidation Loss: 0.104667 Validation Accuracy 78.56\n",
      "Validation accuracy increased (75.69 --> 78.56).  Saving model ...\n",
      "\n",
      "Epoch: 10 \tTraining Loss: 0.390637 \tValidation Loss: 0.095957 Validation Accuracy 80.44\n",
      "Validation accuracy increased (78.56 --> 80.44).  Saving model ...\n",
      "\n",
      "Epoch: 11 \tTraining Loss: 0.369032 \tValidation Loss: 0.106119 Validation Accuracy 78.94\n",
      "\n",
      "Epoch: 12 \tTraining Loss: 0.350429 \tValidation Loss: 0.090640 Validation Accuracy 80.50\n",
      "Validation accuracy increased (80.44 --> 80.50).  Saving model ...\n",
      "\n",
      "Epoch: 13 \tTraining Loss: 0.342061 \tValidation Loss: 0.086375 Validation Accuracy 82.69\n",
      "Validation accuracy increased (80.50 --> 82.69).  Saving model ...\n",
      "\n",
      "Epoch: 14 \tTraining Loss: 0.327378 \tValidation Loss: 0.085164 Validation Accuracy 83.00\n",
      "Validation accuracy increased (82.69 --> 83.00).  Saving model ...\n",
      "\n",
      "Epoch: 15 \tTraining Loss: 0.313345 \tValidation Loss: 0.094466 Validation Accuracy 81.94\n",
      "\n",
      "Epoch: 16 \tTraining Loss: 0.300259 \tValidation Loss: 0.087102 Validation Accuracy 82.50\n",
      "\n",
      "Epoch: 17 \tTraining Loss: 0.296256 \tValidation Loss: 0.080153 Validation Accuracy 83.88\n",
      "Validation accuracy increased (83.00 --> 83.88).  Saving model ...\n",
      "\n",
      "Epoch: 18 \tTraining Loss: 0.286228 \tValidation Loss: 0.081439 Validation Accuracy 83.25\n",
      "\n",
      "Epoch: 19 \tTraining Loss: 0.275493 \tValidation Loss: 0.083803 Validation Accuracy 84.75\n",
      "Validation accuracy increased (83.88 --> 84.75).  Saving model ...\n",
      "\n",
      "Epoch: 20 \tTraining Loss: 0.270734 \tValidation Loss: 0.084789 Validation Accuracy 84.50\n",
      "\n",
      "Epoch: 21 \tTraining Loss: 0.266788 \tValidation Loss: 0.079067 Validation Accuracy 84.75\n",
      "Validation accuracy increased (84.75 --> 84.75).  Saving model ...\n",
      "\n",
      "Epoch: 22 \tTraining Loss: 0.255884 \tValidation Loss: 0.085390 Validation Accuracy 83.44\n",
      "\n",
      "Epoch: 23 \tTraining Loss: 0.243397 \tValidation Loss: 0.076465 Validation Accuracy 85.00\n",
      "Validation accuracy increased (84.75 --> 85.00).  Saving model ...\n",
      "\n",
      "Epoch: 24 \tTraining Loss: 0.239421 \tValidation Loss: 0.075946 Validation Accuracy 86.00\n",
      "Validation accuracy increased (85.00 --> 86.00).  Saving model ...\n",
      "\n",
      "Epoch: 25 \tTraining Loss: 0.227905 \tValidation Loss: 0.079868 Validation Accuracy 85.94\n",
      "\n",
      "Epoch: 26 \tTraining Loss: 0.222450 \tValidation Loss: 0.073012 Validation Accuracy 86.56\n",
      "Validation accuracy increased (86.00 --> 86.56).  Saving model ...\n",
      "\n",
      "Epoch: 27 \tTraining Loss: 0.213982 \tValidation Loss: 0.071491 Validation Accuracy 86.19\n",
      "\n",
      "Epoch: 28 \tTraining Loss: 0.204863 \tValidation Loss: 0.072532 Validation Accuracy 85.81\n",
      "\n",
      "Epoch: 29 \tTraining Loss: 0.206373 \tValidation Loss: 0.074804 Validation Accuracy 86.06\n",
      "\n",
      "Epoch: 30 \tTraining Loss: 0.194107 \tValidation Loss: 0.072824 Validation Accuracy 86.50\n",
      "\n",
      "Epoch: 31 \tTraining Loss: 0.177226 \tValidation Loss: 0.073802 Validation Accuracy 86.56\n",
      "Validation accuracy increased (86.56 --> 86.56).  Saving model ...\n",
      "\n",
      "Epoch: 32 \tTraining Loss: 0.178306 \tValidation Loss: 0.075730 Validation Accuracy 86.56\n",
      "Validation accuracy increased (86.56 --> 86.56).  Saving model ...\n",
      "\n",
      "Epoch: 33 \tTraining Loss: 0.164103 \tValidation Loss: 0.076281 Validation Accuracy 85.56\n",
      "\n",
      "Epoch: 34 \tTraining Loss: 0.153298 \tValidation Loss: 0.076513 Validation Accuracy 86.75\n",
      "Validation accuracy increased (86.56 --> 86.75).  Saving model ...\n",
      "\n",
      "Epoch: 35 \tTraining Loss: 0.154153 \tValidation Loss: 0.086267 Validation Accuracy 85.56\n",
      "\n",
      "Epoch: 36 \tTraining Loss: 0.140669 \tValidation Loss: 0.081619 Validation Accuracy 86.31\n",
      "\n",
      "Epoch: 37 \tTraining Loss: 0.138333 \tValidation Loss: 0.089265 Validation Accuracy 84.69\n",
      "\n",
      "Epoch: 38 \tTraining Loss: 0.135881 \tValidation Loss: 0.093356 Validation Accuracy 84.69\n",
      "\n",
      "Epoch: 39 \tTraining Loss: 0.124016 \tValidation Loss: 0.087074 Validation Accuracy 85.25\n",
      "\n",
      "Epoch: 40 \tTraining Loss: 0.121518 \tValidation Loss: 0.080733 Validation Accuracy 86.12\n",
      "\n"
     ]
    }
   ],
   "source": [
    "# number of epochs to train the model\n",
    "n_epochs = 40 # you may increase this number to train a final model\n",
    "\n",
    "valid_acc_min = 0 # track change in validation accuracy\n",
    "\n",
    "for epoch in range(1, n_epochs+1):\n",
    "   \n",
    "    # keep track of training and validation loss\n",
    "    train_loss = 0.0\n",
    "    valid_loss = 0.0\n",
    "    \n",
    "    \n",
    "    # train the model #\n",
    "    \n",
    "    model.train()\n",
    "    for data, target in train_loader:\n",
    "        # move tensors to GPU if CUDA is available\n",
    "        if train_on_gpu:\n",
    "            data, target = data.cuda(), target.cuda()\n",
    "        # clear the gradients of all optimized variables\n",
    "        optimizer.zero_grad()\n",
    "        # forward pass: compute predicted outputs by passing inputs to the model\n",
    "        output = model(data)\n",
    "        # calculate the batch loss\n",
    "        loss = criterion(output, target)\n",
    "        # backward pass: compute gradient of the loss with respect to model parameters\n",
    "        loss.backward()\n",
    "        # perform a single optimization step (parameter update)\n",
    "        optimizer.step()\n",
    "        # update training loss\n",
    "        train_loss += loss.item()*data.size(0)\n",
    "        \n",
    "\n",
    "    # validate the model #\n",
    "\n",
    "    model.eval()\n",
    "    correct = 0\n",
    "    total = 0\n",
    "    for data, target in valid_loader:\n",
    "        # move tensors to GPU if CUDA is available\n",
    "        if train_on_gpu:\n",
    "            data, target = data.cuda(), target.cuda()\n",
    "        # forward pass: compute predicted outputs by passing inputs to the model\n",
    "        output = model(data)\n",
    "        values, indices = torch.max(output, 1)\n",
    "        correct += torch.sum(indices == target)\n",
    "        total += batch_size\n",
    "        # calculate the batch loss\n",
    "        loss = criterion(output, target)\n",
    "        # update average validation loss \n",
    "        valid_loss += loss.item()*data.size(0)\n",
    "    \n",
    "    # calculate average losses\n",
    "    train_loss = train_loss/len(train_loader.dataset)\n",
    "    valid_loss = valid_loss/len(valid_loader.dataset)\n",
    "        \n",
    "    accuracy = (float(correct) * 100.0) / float(total)\n",
    "    # print training/validation statistics \n",
    "    print('Epoch: {} \\tTraining Loss: {:.6f} \\tValidation Loss: {:.6f} Validation Accuracy {:.2f}'.format(\n",
    "        epoch, train_loss, valid_loss, accuracy))\n",
    "    \n",
    "    # save model if validation loss has decreased\n",
    "    if accuracy >= valid_acc_min:\n",
    "        print('Validation accuracy increased ({:.2f} --> {:.2f}).  Saving model ...'.format(\n",
    "        valid_acc_min,\n",
    "        accuracy))\n",
    "        torch.save(model.state_dict(), 'model_cifar.pt')\n",
    "        valid_acc_min = accuracy\n",
    "    print()"
   ]
  },
  {
   "cell_type": "markdown",
   "metadata": {
    "colab_type": "text",
    "id": "FFpIwDCbxH7z"
   },
   "source": [
    "## Test Image"
   ]
  },
  {
   "cell_type": "code",
   "execution_count": 0,
   "metadata": {
    "colab": {},
    "colab_type": "code",
    "id": "pjyUpaWX-Ht_"
   },
   "outputs": [],
   "source": [
    "model.load_state_dict(torch.load('model_cifar.pt'))"
   ]
  },
  {
   "cell_type": "markdown",
   "metadata": {
    "colab_type": "text",
    "id": "kgYmBo-wyDcB"
   },
   "source": [
    "Placeholders to contain the entries"
   ]
  },
  {
   "cell_type": "code",
   "execution_count": 0,
   "metadata": {
    "colab": {},
    "colab_type": "code",
    "id": "VyBXb0Fg0bGr"
   },
   "outputs": [],
   "source": [
    "image_index = []\n",
    "image_label = []"
   ]
  },
  {
   "cell_type": "markdown",
   "metadata": {
    "colab_type": "text",
    "id": "q0gn6ZTTyGC2"
   },
   "source": [
    "### Predicting for test images\n",
    "\n",
    "Since now we are preparing for submission we set the model to evaluate mode "
   ]
  },
  {
   "cell_type": "code",
   "execution_count": 0,
   "metadata": {
    "colab": {},
    "colab_type": "code",
    "id": "nH1hSb6sxZWV"
   },
   "outputs": [],
   "source": [
    "model.eval()\n",
    "# iterate over test data\n",
    "for data, target in test_loader:\n",
    "    # move tensors to GPU if CUDA is available\n",
    "    if train_on_gpu:\n",
    "        data, target = data.cuda(), target.cuda()\n",
    "    # forward pass: compute predicted outputs by passing inputs to the model\n",
    "    output = model(data)\n",
    "    \n",
    "    # convert output probabilities to predicted class\n",
    "    _, pred = torch.max(output, 1)    \n",
    "   \n",
    "    size = len(pred)\n",
    "    # calculate test accuracy for each object class\n",
    "    for i in range(size):\n",
    "        label = pred[i]\n",
    "        image_index.append(target[i].cpu().numpy().item())\n",
    "        image_label.append(label.cpu().numpy().item())        "
   ]
  },
  {
   "cell_type": "code",
   "execution_count": 0,
   "metadata": {
    "colab": {},
    "colab_type": "code",
    "id": "TtwHdBkcqXuD"
   },
   "outputs": [],
   "source": [
    "plot_label = np.array(image_label)\n",
    "plot_label[plot_label == 1] = 6"
   ]
  },
  {
   "cell_type": "code",
   "execution_count": 0,
   "metadata": {
    "colab": {},
    "colab_type": "code",
    "id": "S9m_na25HmKs"
   },
   "outputs": [],
   "source": [
    "plot_index = np.array(image_index)"
   ]
  },
  {
   "cell_type": "code",
   "execution_count": 94,
   "metadata": {
    "colab": {
     "base_uri": "https://localhost:8080/",
     "height": 34
    },
    "colab_type": "code",
    "id": "b19OoAIb9BjZ",
    "outputId": "33f1b4ce-b904-4052-a433-d95924b58ac2"
   },
   "outputs": [
    {
     "data": {
      "text/plain": [
       "1732"
      ]
     },
     "execution_count": 94,
     "metadata": {
      "tags": []
     },
     "output_type": "execute_result"
    }
   ],
   "source": [
    "np.sum(plot_label[:501] == 0) + np.sum(plot_label[500:1001] == 2) + np.sum(plot_label[1000:1501] == 3) + np.sum(plot_label[1500:] == 6)"
   ]
  },
  {
   "cell_type": "code",
   "execution_count": 0,
   "metadata": {
    "colab": {},
    "colab_type": "code",
    "id": "NLeHy4LuucHv"
   },
   "outputs": [],
   "source": [
    "df = pd.DataFrame({'class':plot_label, 'image_index':plot_index})\n",
    "df = df[df.columns[::-1]]"
   ]
  },
  {
   "cell_type": "code",
   "execution_count": 0,
   "metadata": {
    "colab": {},
    "colab_type": "code",
    "id": "AsgvcDCQqB7H"
   },
   "outputs": [],
   "source": [
    "df.to_csv('rahul.csv', index = False)"
   ]
  },
  {
   "cell_type": "code",
   "execution_count": 0,
   "metadata": {
    "colab": {},
    "colab_type": "code",
    "id": "Bt_qykO5-76x"
   },
   "outputs": [],
   "source": []
  }
 ],
 "metadata": {
  "accelerator": "GPU",
  "colab": {
   "collapsed_sections": [],
   "name": "IIIT_Delhi.ipynb",
   "provenance": [],
   "toc_visible": true,
   "version": "0.3.2"
  },
  "kernelspec": {
   "display_name": "Python 3",
   "language": "python",
   "name": "python3"
  },
  "language_info": {
   "codemirror_mode": {
    "name": "ipython",
    "version": 3
   },
   "file_extension": ".py",
   "mimetype": "text/x-python",
   "name": "python",
   "nbconvert_exporter": "python",
   "pygments_lexer": "ipython3",
   "version": "3.7.1"
  }
 },
 "nbformat": 4,
 "nbformat_minor": 1
}
